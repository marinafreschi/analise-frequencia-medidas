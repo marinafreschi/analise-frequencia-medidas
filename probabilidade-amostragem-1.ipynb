{
 "cells": [
  {
   "cell_type": "markdown",
   "metadata": {},
   "source": [
    "##### Suponha que você trabalha em uma empresa de produtos de beleza populares e, com a pandemia, você suspeita que o perfil de seus clientes mudou. O time de marketing, pediu a sua ajuda e gostaria de entender se 1. isso de fato aconteceu e 2. quais as diferenças do novo perfil de clientes para o antigo, pois assim poderiam personalizar melhor os seus anúncios. Para isso, eles te enviaram a base de dados (desafio_01_consumidor.csv). Como você poderia ajudá-los?\n",
    "\n",
    "##### A base de dados: desafio_01_consumidor.csv contém informações de seus clientes (anonimizados) no período pré e pós pandemia. A coluna \"pré-pandemia\" indica se o dado é pré-pandemia ou não, sendo 1, caso positivo ou 0 caso negativo.\n"
   ]
  },
  {
   "cell_type": "markdown",
   "metadata": {},
   "source": []
  },
  {
   "cell_type": "code",
   "execution_count": 1,
   "metadata": {},
   "outputs": [],
   "source": [
    "import pandas as pd\n",
    "import numpy as np\n",
    "import seaborn as sns"
   ]
  },
  {
   "cell_type": "code",
   "execution_count": 3,
   "metadata": {},
   "outputs": [
    {
     "data": {
      "text/html": [
       "<div>\n",
       "<style scoped>\n",
       "    .dataframe tbody tr th:only-of-type {\n",
       "        vertical-align: middle;\n",
       "    }\n",
       "\n",
       "    .dataframe tbody tr th {\n",
       "        vertical-align: top;\n",
       "    }\n",
       "\n",
       "    .dataframe thead th {\n",
       "        text-align: right;\n",
       "    }\n",
       "</style>\n",
       "<table border=\"1\" class=\"dataframe\">\n",
       "  <thead>\n",
       "    <tr style=\"text-align: right;\">\n",
       "      <th></th>\n",
       "      <th>id_cliente</th>\n",
       "      <th>idade</th>\n",
       "      <th>renda</th>\n",
       "      <th>produto</th>\n",
       "      <th>regiao-BR</th>\n",
       "      <th>pre-pandemia</th>\n",
       "    </tr>\n",
       "  </thead>\n",
       "  <tbody>\n",
       "    <tr>\n",
       "      <th>0</th>\n",
       "      <td>XXXXXXX72</td>\n",
       "      <td>30</td>\n",
       "      <td>7452</td>\n",
       "      <td>batom</td>\n",
       "      <td>Sudeste</td>\n",
       "      <td>1</td>\n",
       "    </tr>\n",
       "    <tr>\n",
       "      <th>1</th>\n",
       "      <td>XXXXXXX15</td>\n",
       "      <td>59</td>\n",
       "      <td>837</td>\n",
       "      <td>desodorante</td>\n",
       "      <td>Nordeste</td>\n",
       "      <td>1</td>\n",
       "    </tr>\n",
       "    <tr>\n",
       "      <th>2</th>\n",
       "      <td>XXXXXXX70</td>\n",
       "      <td>28</td>\n",
       "      <td>3231</td>\n",
       "      <td>sombra</td>\n",
       "      <td>Centro-Oeste</td>\n",
       "      <td>1</td>\n",
       "    </tr>\n",
       "    <tr>\n",
       "      <th>3</th>\n",
       "      <td>XXXXXXX99</td>\n",
       "      <td>27</td>\n",
       "      <td>5409</td>\n",
       "      <td>batom</td>\n",
       "      <td>Sul</td>\n",
       "      <td>1</td>\n",
       "    </tr>\n",
       "    <tr>\n",
       "      <th>4</th>\n",
       "      <td>XXXXXXX98</td>\n",
       "      <td>24</td>\n",
       "      <td>1142</td>\n",
       "      <td>batom</td>\n",
       "      <td>Sudeste</td>\n",
       "      <td>1</td>\n",
       "    </tr>\n",
       "    <tr>\n",
       "      <th>...</th>\n",
       "      <td>...</td>\n",
       "      <td>...</td>\n",
       "      <td>...</td>\n",
       "      <td>...</td>\n",
       "      <td>...</td>\n",
       "      <td>...</td>\n",
       "    </tr>\n",
       "    <tr>\n",
       "      <th>198</th>\n",
       "      <td>XXXXXXX25</td>\n",
       "      <td>46</td>\n",
       "      <td>16918</td>\n",
       "      <td>desodorante</td>\n",
       "      <td>Sul</td>\n",
       "      <td>0</td>\n",
       "    </tr>\n",
       "    <tr>\n",
       "      <th>199</th>\n",
       "      <td>XXXXXXX50</td>\n",
       "      <td>43</td>\n",
       "      <td>10930</td>\n",
       "      <td>antissinais</td>\n",
       "      <td>Norte</td>\n",
       "      <td>0</td>\n",
       "    </tr>\n",
       "    <tr>\n",
       "      <th>200</th>\n",
       "      <td>XXXXXXX65</td>\n",
       "      <td>48</td>\n",
       "      <td>10246</td>\n",
       "      <td>perfume</td>\n",
       "      <td>Nordeste</td>\n",
       "      <td>0</td>\n",
       "    </tr>\n",
       "    <tr>\n",
       "      <th>201</th>\n",
       "      <td>XXXXXXX61</td>\n",
       "      <td>47</td>\n",
       "      <td>12337</td>\n",
       "      <td>batom</td>\n",
       "      <td>Sudeste</td>\n",
       "      <td>0</td>\n",
       "    </tr>\n",
       "    <tr>\n",
       "      <th>202</th>\n",
       "      <td>XXXXXXX89</td>\n",
       "      <td>58</td>\n",
       "      <td>14108</td>\n",
       "      <td>desodorante</td>\n",
       "      <td>Sul</td>\n",
       "      <td>0</td>\n",
       "    </tr>\n",
       "  </tbody>\n",
       "</table>\n",
       "<p>203 rows × 6 columns</p>\n",
       "</div>"
      ],
      "text/plain": [
       "    id_cliente  idade  renda      produto     regiao-BR  pre-pandemia\n",
       "0    XXXXXXX72     30   7452        batom       Sudeste             1\n",
       "1    XXXXXXX15     59    837  desodorante      Nordeste             1\n",
       "2    XXXXXXX70     28   3231       sombra  Centro-Oeste             1\n",
       "3    XXXXXXX99     27   5409        batom           Sul             1\n",
       "4    XXXXXXX98     24   1142        batom       Sudeste             1\n",
       "..         ...    ...    ...          ...           ...           ...\n",
       "198  XXXXXXX25     46  16918  desodorante           Sul             0\n",
       "199  XXXXXXX50     43  10930  antissinais         Norte             0\n",
       "200  XXXXXXX65     48  10246      perfume      Nordeste             0\n",
       "201  XXXXXXX61     47  12337        batom       Sudeste             0\n",
       "202  XXXXXXX89     58  14108  desodorante           Sul             0\n",
       "\n",
       "[203 rows x 6 columns]"
      ]
     },
     "execution_count": 3,
     "metadata": {},
     "output_type": "execute_result"
    }
   ],
   "source": [
    "df = pd.read_csv(\"desafio01consumidor-230829-103627.csv\")\n",
    "df"
   ]
  },
  {
   "cell_type": "code",
   "execution_count": 4,
   "metadata": {},
   "outputs": [
    {
     "data": {
      "text/html": [
       "<div>\n",
       "<style scoped>\n",
       "    .dataframe tbody tr th:only-of-type {\n",
       "        vertical-align: middle;\n",
       "    }\n",
       "\n",
       "    .dataframe tbody tr th {\n",
       "        vertical-align: top;\n",
       "    }\n",
       "\n",
       "    .dataframe thead th {\n",
       "        text-align: right;\n",
       "    }\n",
       "</style>\n",
       "<table border=\"1\" class=\"dataframe\">\n",
       "  <thead>\n",
       "    <tr style=\"text-align: right;\">\n",
       "      <th></th>\n",
       "      <th>id_cliente</th>\n",
       "      <th>idade</th>\n",
       "      <th>renda</th>\n",
       "      <th>produto</th>\n",
       "      <th>regiao_BR</th>\n",
       "      <th>pre_pandemia</th>\n",
       "    </tr>\n",
       "  </thead>\n",
       "  <tbody>\n",
       "    <tr>\n",
       "      <th>0</th>\n",
       "      <td>XXXXXXX72</td>\n",
       "      <td>30</td>\n",
       "      <td>7452</td>\n",
       "      <td>batom</td>\n",
       "      <td>Sudeste</td>\n",
       "      <td>1</td>\n",
       "    </tr>\n",
       "    <tr>\n",
       "      <th>1</th>\n",
       "      <td>XXXXXXX15</td>\n",
       "      <td>59</td>\n",
       "      <td>837</td>\n",
       "      <td>desodorante</td>\n",
       "      <td>Nordeste</td>\n",
       "      <td>1</td>\n",
       "    </tr>\n",
       "    <tr>\n",
       "      <th>2</th>\n",
       "      <td>XXXXXXX70</td>\n",
       "      <td>28</td>\n",
       "      <td>3231</td>\n",
       "      <td>sombra</td>\n",
       "      <td>Centro-Oeste</td>\n",
       "      <td>1</td>\n",
       "    </tr>\n",
       "    <tr>\n",
       "      <th>3</th>\n",
       "      <td>XXXXXXX99</td>\n",
       "      <td>27</td>\n",
       "      <td>5409</td>\n",
       "      <td>batom</td>\n",
       "      <td>Sul</td>\n",
       "      <td>1</td>\n",
       "    </tr>\n",
       "    <tr>\n",
       "      <th>4</th>\n",
       "      <td>XXXXXXX98</td>\n",
       "      <td>24</td>\n",
       "      <td>1142</td>\n",
       "      <td>batom</td>\n",
       "      <td>Sudeste</td>\n",
       "      <td>1</td>\n",
       "    </tr>\n",
       "    <tr>\n",
       "      <th>...</th>\n",
       "      <td>...</td>\n",
       "      <td>...</td>\n",
       "      <td>...</td>\n",
       "      <td>...</td>\n",
       "      <td>...</td>\n",
       "      <td>...</td>\n",
       "    </tr>\n",
       "    <tr>\n",
       "      <th>198</th>\n",
       "      <td>XXXXXXX25</td>\n",
       "      <td>46</td>\n",
       "      <td>16918</td>\n",
       "      <td>desodorante</td>\n",
       "      <td>Sul</td>\n",
       "      <td>0</td>\n",
       "    </tr>\n",
       "    <tr>\n",
       "      <th>199</th>\n",
       "      <td>XXXXXXX50</td>\n",
       "      <td>43</td>\n",
       "      <td>10930</td>\n",
       "      <td>antissinais</td>\n",
       "      <td>Norte</td>\n",
       "      <td>0</td>\n",
       "    </tr>\n",
       "    <tr>\n",
       "      <th>200</th>\n",
       "      <td>XXXXXXX65</td>\n",
       "      <td>48</td>\n",
       "      <td>10246</td>\n",
       "      <td>perfume</td>\n",
       "      <td>Nordeste</td>\n",
       "      <td>0</td>\n",
       "    </tr>\n",
       "    <tr>\n",
       "      <th>201</th>\n",
       "      <td>XXXXXXX61</td>\n",
       "      <td>47</td>\n",
       "      <td>12337</td>\n",
       "      <td>batom</td>\n",
       "      <td>Sudeste</td>\n",
       "      <td>0</td>\n",
       "    </tr>\n",
       "    <tr>\n",
       "      <th>202</th>\n",
       "      <td>XXXXXXX89</td>\n",
       "      <td>58</td>\n",
       "      <td>14108</td>\n",
       "      <td>desodorante</td>\n",
       "      <td>Sul</td>\n",
       "      <td>0</td>\n",
       "    </tr>\n",
       "  </tbody>\n",
       "</table>\n",
       "<p>203 rows × 6 columns</p>\n",
       "</div>"
      ],
      "text/plain": [
       "    id_cliente  idade  renda      produto     regiao_BR  pre_pandemia\n",
       "0    XXXXXXX72     30   7452        batom       Sudeste             1\n",
       "1    XXXXXXX15     59    837  desodorante      Nordeste             1\n",
       "2    XXXXXXX70     28   3231       sombra  Centro-Oeste             1\n",
       "3    XXXXXXX99     27   5409        batom           Sul             1\n",
       "4    XXXXXXX98     24   1142        batom       Sudeste             1\n",
       "..         ...    ...    ...          ...           ...           ...\n",
       "198  XXXXXXX25     46  16918  desodorante           Sul             0\n",
       "199  XXXXXXX50     43  10930  antissinais         Norte             0\n",
       "200  XXXXXXX65     48  10246      perfume      Nordeste             0\n",
       "201  XXXXXXX61     47  12337        batom       Sudeste             0\n",
       "202  XXXXXXX89     58  14108  desodorante           Sul             0\n",
       "\n",
       "[203 rows x 6 columns]"
      ]
     },
     "execution_count": 4,
     "metadata": {},
     "output_type": "execute_result"
    }
   ],
   "source": [
    "df.rename(columns={'pre-pandemia':'pre_pandemia',  'regiao-BR':'regiao_BR'}, inplace=True)\n",
    "df"
   ]
  },
  {
   "cell_type": "code",
   "execution_count": 5,
   "metadata": {},
   "outputs": [
    {
     "data": {
      "text/plain": [
       "pre_pandemia\n",
       "0    102\n",
       "1    101\n",
       "Name: count, dtype: int64"
      ]
     },
     "execution_count": 5,
     "metadata": {},
     "output_type": "execute_result"
    }
   ],
   "source": [
    "clientes = df['pre_pandemia'].value_counts()\n",
    "clientes"
   ]
  },
  {
   "cell_type": "code",
   "execution_count": 6,
   "metadata": {},
   "outputs": [],
   "source": [
    "## observa-se que o número de clientes pré e pós pandemia é praticamente igual, tendo apenas 1 mais para o pós pandemia."
   ]
  },
  {
   "cell_type": "code",
   "execution_count": 7,
   "metadata": {},
   "outputs": [
    {
     "data": {
      "text/plain": [
       "pre_pandemia\n",
       "0    44.901961\n",
       "1    39.881188\n",
       "Name: idade, dtype: float64"
      ]
     },
     "execution_count": 7,
     "metadata": {},
     "output_type": "execute_result"
    }
   ],
   "source": [
    "idade = df.groupby(['pre_pandemia'])['idade'].mean()\n",
    "idade"
   ]
  },
  {
   "cell_type": "code",
   "execution_count": null,
   "metadata": {},
   "outputs": [],
   "source": [
    "## observa-se que a média de idade dos clientes pós pandemia é mais alta"
   ]
  },
  {
   "cell_type": "code",
   "execution_count": 8,
   "metadata": {},
   "outputs": [
    {
     "data": {
      "text/plain": [
       "pre_pandemia\n",
       "0    13968.500000\n",
       "1     9180.643564\n",
       "Name: renda, dtype: float64"
      ]
     },
     "execution_count": 8,
     "metadata": {},
     "output_type": "execute_result"
    }
   ],
   "source": [
    "renda = df.groupby(['pre_pandemia'])['renda'].mean()\n",
    "renda"
   ]
  },
  {
   "cell_type": "code",
   "execution_count": null,
   "metadata": {},
   "outputs": [],
   "source": [
    "## observa-se que a média da renda dos clientes pós pandemia é maior"
   ]
  },
  {
   "cell_type": "code",
   "execution_count": 10,
   "metadata": {},
   "outputs": [
    {
     "data": {
      "text/plain": [
       "<Axes: title={'center': 'Comparação da renda dos clientes Pré e Pós pandemia'}, xlabel='cliente', ylabel='Renda'>"
      ]
     },
     "execution_count": 10,
     "metadata": {},
     "output_type": "execute_result"
    },
    {
     "data": {
      "image/png": "[encoded data removed]",
      "text/plain": [
       "<Figure size 800x800 with 1 Axes>"
      ]
     },
     "metadata": {},
     "output_type": "display_data"
    }
   ],
   "source": [
    "ax = sns.boxplot(data=df, x='pre_pandemia', y='renda')\n",
    "ax.figure.set_size_inches(8, 8)\n",
    "ax.set_title('Comparação da renda dos clientes Pré e Pós pandemia')\n",
    "ax.set_xlabel('cliente')\n",
    "ax.set_ylabel('Renda')\n",
    "ax.set_xticklabels(['pós pandemia', 'pré pandemia'])\n",
    "\n",
    "ax"
   ]
  },
  {
   "cell_type": "code",
   "execution_count": null,
   "metadata": {},
   "outputs": [],
   "source": [
    "## a média da renda dos clientes pós pandemia é maior\n",
    "## seus dados são simétricos\n",
    "## já com relação aos clientes pré pandemia, oberva-se dados assimétricos"
   ]
  },
  {
   "cell_type": "code",
   "execution_count": 11,
   "metadata": {},
   "outputs": [
    {
     "data": {
      "text/plain": [
       "<Axes: title={'center': 'Comparação das idades dos clientes Pré e Pós pandemia'}, xlabel='cliente', ylabel='Idade'>"
      ]
     },
     "execution_count": 11,
     "metadata": {},
     "output_type": "execute_result"
    },
    {
     "data": {
      "image/png": "[encoded data removed]",
      "text/plain": [
       "<Figure size 800x800 with 1 Axes>"
      ]
     },
     "metadata": {},
     "output_type": "display_data"
    }
   ],
   "source": [
    "ax = sns.boxplot(data=df, x='pre_pandemia', y='idade')\n",
    "ax.figure.set_size_inches(8, 8)\n",
    "ax.set_title('Comparação das idades dos clientes Pré e Pós pandemia')\n",
    "ax.set_xlabel('cliente')\n",
    "ax.set_ylabel('Idade')\n",
    "ax.set_xticklabels(['pós pandemia', 'pré pandemia'])\n",
    "\n",
    "ax"
   ]
  },
  {
   "cell_type": "code",
   "execution_count": 12,
   "metadata": {},
   "outputs": [
    {
     "data": {
      "text/html": [
       "<div>\n",
       "<style scoped>\n",
       "    .dataframe tbody tr th:only-of-type {\n",
       "        vertical-align: middle;\n",
       "    }\n",
       "\n",
       "    .dataframe tbody tr th {\n",
       "        vertical-align: top;\n",
       "    }\n",
       "\n",
       "    .dataframe thead th {\n",
       "        text-align: right;\n",
       "    }\n",
       "</style>\n",
       "<table border=\"1\" class=\"dataframe\">\n",
       "  <thead>\n",
       "    <tr style=\"text-align: right;\">\n",
       "      <th>Cliente</th>\n",
       "      <th>Idade</th>\n",
       "      <th>Renda</th>\n",
       "    </tr>\n",
       "    <tr>\n",
       "      <th>pre_pandemia</th>\n",
       "      <th></th>\n",
       "      <th></th>\n",
       "    </tr>\n",
       "  </thead>\n",
       "  <tbody>\n",
       "    <tr>\n",
       "      <th>Pós Pandemia</th>\n",
       "      <td>44.901961</td>\n",
       "      <td>13968.500000</td>\n",
       "    </tr>\n",
       "    <tr>\n",
       "      <th>Pré Pandemia</th>\n",
       "      <td>39.881188</td>\n",
       "      <td>9180.643564</td>\n",
       "    </tr>\n",
       "  </tbody>\n",
       "</table>\n",
       "</div>"
      ],
      "text/plain": [
       "Cliente           Idade         Renda\n",
       "pre_pandemia                         \n",
       "Pós Pandemia  44.901961  13968.500000\n",
       "Pré Pandemia  39.881188   9180.643564"
      ]
     },
     "execution_count": 12,
     "metadata": {},
     "output_type": "execute_result"
    }
   ],
   "source": [
    "analise1 = pd.DataFrame({'Idade': idade, 'Renda': renda})\n",
    "analise1.rename(index={0:'Pós Pandemia', 1:'Pré Pandemia'}, inplace=True)\n",
    "analise1.rename_axis('Cliente', axis='columns', inplace=True)\n",
    "analise1"
   ]
  },
  {
   "cell_type": "code",
   "execution_count": null,
   "metadata": {},
   "outputs": [],
   "source": [
    "## os clientes pós pandemia possuem uma idade média mais elevada, bem como sua renda; comparadas aos clientes pré pandemia"
   ]
  },
  {
   "cell_type": "code",
   "execution_count": 13,
   "metadata": {},
   "outputs": [
    {
     "data": {
      "text/plain": [
       "['antissinais', 'base', 'batom', 'desodorante', 'perfume', 'sombra']"
      ]
     },
     "execution_count": 13,
     "metadata": {},
     "output_type": "execute_result"
    }
   ],
   "source": [
    "sorted(df['produto'].unique())"
   ]
  },
  {
   "cell_type": "code",
   "execution_count": 14,
   "metadata": {},
   "outputs": [
    {
     "data": {
      "text/plain": [
       "[0, 1]"
      ]
     },
     "execution_count": 14,
     "metadata": {},
     "output_type": "execute_result"
    }
   ],
   "source": [
    "sorted(df['pre_pandemia'].unique())"
   ]
  },
  {
   "cell_type": "code",
   "execution_count": 15,
   "metadata": {},
   "outputs": [
    {
     "data": {
      "text/plain": [
       "['Centro-Oeste', 'Nordeste', 'Norte', 'Sudeste', 'Sul']"
      ]
     },
     "execution_count": 15,
     "metadata": {},
     "output_type": "execute_result"
    }
   ],
   "source": [
    "sorted(df['regiao_BR'].unique())"
   ]
  },
  {
   "cell_type": "code",
   "execution_count": 16,
   "metadata": {},
   "outputs": [],
   "source": [
    "sexo = ({0:'Pós Pandemia', 1:'Pré Pandemia'})\n",
    "produtos = ({0:'antissinais', 1:'base', 2:'batom', 3:'desodorante', 4:'perfume', 5:'sombra'})\n",
    "regiao = ({0:'Centro-Oeste', 1:'Nordeste', 2:'Norte', 3:'Sudeste', 4:'Sul'})"
   ]
  },
  {
   "cell_type": "code",
   "execution_count": 17,
   "metadata": {},
   "outputs": [
    {
     "data": {
      "text/html": [
       "<div>\n",
       "<style scoped>\n",
       "    .dataframe tbody tr th:only-of-type {\n",
       "        vertical-align: middle;\n",
       "    }\n",
       "\n",
       "    .dataframe tbody tr th {\n",
       "        vertical-align: top;\n",
       "    }\n",
       "\n",
       "    .dataframe thead th {\n",
       "        text-align: right;\n",
       "    }\n",
       "</style>\n",
       "<table border=\"1\" class=\"dataframe\">\n",
       "  <thead>\n",
       "    <tr style=\"text-align: right;\">\n",
       "      <th>produto</th>\n",
       "      <th>antissinais</th>\n",
       "      <th>base</th>\n",
       "      <th>batom</th>\n",
       "      <th>desodorante</th>\n",
       "      <th>perfume</th>\n",
       "      <th>sombra</th>\n",
       "    </tr>\n",
       "    <tr>\n",
       "      <th>pre_pandemia</th>\n",
       "      <th></th>\n",
       "      <th></th>\n",
       "      <th></th>\n",
       "      <th></th>\n",
       "      <th></th>\n",
       "      <th></th>\n",
       "    </tr>\n",
       "  </thead>\n",
       "  <tbody>\n",
       "    <tr>\n",
       "      <th>Pós Pandemia</th>\n",
       "      <td>20</td>\n",
       "      <td>4</td>\n",
       "      <td>15</td>\n",
       "      <td>46</td>\n",
       "      <td>8</td>\n",
       "      <td>9</td>\n",
       "    </tr>\n",
       "    <tr>\n",
       "      <th>Pré Pandemia</th>\n",
       "      <td>9</td>\n",
       "      <td>3</td>\n",
       "      <td>61</td>\n",
       "      <td>20</td>\n",
       "      <td>4</td>\n",
       "      <td>4</td>\n",
       "    </tr>\n",
       "  </tbody>\n",
       "</table>\n",
       "</div>"
      ],
      "text/plain": [
       "produto       antissinais  base  batom  desodorante  perfume  sombra\n",
       "pre_pandemia                                                        \n",
       "Pós Pandemia           20     4     15           46        8       9\n",
       "Pré Pandemia            9     3     61           20        4       4"
      ]
     },
     "execution_count": 17,
     "metadata": {},
     "output_type": "execute_result"
    }
   ],
   "source": [
    "analise_produtos = pd.crosstab(df.pre_pandemia,  df.produto)\n",
    "analise_produtos.rename(index = sexo, inplace = True)\n",
    "analise_produtos.rename(columns = produtos, inplace = True)\n",
    "analise_produtos"
   ]
  },
  {
   "cell_type": "code",
   "execution_count": null,
   "metadata": {},
   "outputs": [],
   "source": [
    "## Observa-se uma queda significativa na venda de batom.\n",
    "## Os demais produtos tiveram aumento de vendas pós pandemia,\n",
    "## sendo os maiores aumentos nos produtos antissinais e desodorante"
   ]
  },
  {
   "cell_type": "code",
   "execution_count": null,
   "metadata": {},
   "outputs": [],
   "source": [
    "## O aumento de produtos antisinais pode se dar devido ao aumento de clientes mais velhos, conforme observamos na comparação das médias de idade"
   ]
  },
  {
   "cell_type": "code",
   "execution_count": 18,
   "metadata": {},
   "outputs": [
    {
     "data": {
      "text/html": [
       "<div>\n",
       "<style scoped>\n",
       "    .dataframe tbody tr th:only-of-type {\n",
       "        vertical-align: middle;\n",
       "    }\n",
       "\n",
       "    .dataframe tbody tr th {\n",
       "        vertical-align: top;\n",
       "    }\n",
       "\n",
       "    .dataframe thead th {\n",
       "        text-align: right;\n",
       "    }\n",
       "</style>\n",
       "<table border=\"1\" class=\"dataframe\">\n",
       "  <thead>\n",
       "    <tr style=\"text-align: right;\">\n",
       "      <th>regiao_BR</th>\n",
       "      <th>Centro-Oeste</th>\n",
       "      <th>Nordeste</th>\n",
       "      <th>Norte</th>\n",
       "      <th>Sudeste</th>\n",
       "      <th>Sul</th>\n",
       "    </tr>\n",
       "    <tr>\n",
       "      <th>pre_pandemia</th>\n",
       "      <th></th>\n",
       "      <th></th>\n",
       "      <th></th>\n",
       "      <th></th>\n",
       "      <th></th>\n",
       "    </tr>\n",
       "  </thead>\n",
       "  <tbody>\n",
       "    <tr>\n",
       "      <th>Pós Pandemia</th>\n",
       "      <td>8</td>\n",
       "      <td>25</td>\n",
       "      <td>9</td>\n",
       "      <td>18</td>\n",
       "      <td>42</td>\n",
       "    </tr>\n",
       "    <tr>\n",
       "      <th>Pré Pandemia</th>\n",
       "      <td>17</td>\n",
       "      <td>26</td>\n",
       "      <td>8</td>\n",
       "      <td>21</td>\n",
       "      <td>29</td>\n",
       "    </tr>\n",
       "  </tbody>\n",
       "</table>\n",
       "</div>"
      ],
      "text/plain": [
       "regiao_BR     Centro-Oeste  Nordeste  Norte  Sudeste  Sul\n",
       "pre_pandemia                                             \n",
       "Pós Pandemia             8        25      9       18   42\n",
       "Pré Pandemia            17        26      8       21   29"
      ]
     },
     "execution_count": 18,
     "metadata": {},
     "output_type": "execute_result"
    }
   ],
   "source": [
    "analise_regiao = pd.crosstab(df.pre_pandemia, df.regiao_BR)\n",
    "analise_regiao.rename(index=sexo, inplace=True)\n",
    "analise_regiao.rename(columns=regiao, inplace=True)\n",
    "analise_regiao"
   ]
  },
  {
   "cell_type": "code",
   "execution_count": null,
   "metadata": {},
   "outputs": [],
   "source": [
    "## Observa-se que teve uma queda grande no numero de clientes da regiao Centro Oeste\n",
    "## e uma queda pequena no numero de clientes da região Sudeste\n",
    "## Aumentou o numero de clientes da regiao Sul\n",
    "## Região Norte e Nordeste praticamente mantiveram-se iguais"
   ]
  }
 ],
 "metadata": {
  "kernelspec": {
   "display_name": "Python 3",
   "language": "python",
   "name": "python3"
  },
  "language_info": {
   "codemirror_mode": {
    "name": "ipython",
    "version": 3
   },
   "file_extension": ".py",
   "mimetype": "text/x-python",
   "name": "python",
   "nbconvert_exporter": "python",
   "pygments_lexer": "ipython3",
   "version": "3.11.4"
  },
  "orig_nbformat": 4
 },
 "nbformat": 4,
 "nbformat_minor": 2
}
